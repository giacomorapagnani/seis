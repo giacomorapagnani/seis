{
 "cells": [
  {
   "cell_type": "code",
   "execution_count": 31,
   "metadata": {},
   "outputs": [],
   "source": [
    "import numpy as np\n",
    "import matplotlib.pyplot as plt\n",
    "import csv\n",
    "import os\n",
    "from obspy.core.event import Catalog\n",
    "from obspy.core.event import Event\n",
    "from obspy.core.event import Origin\n",
    "from obspy.core.event import Magnitude"
   ]
  },
  {
   "cell_type": "markdown",
   "metadata": {},
   "source": [
    "# Read and create dictionary"
   ]
  },
  {
   "cell_type": "code",
   "execution_count": 2,
   "metadata": {},
   "outputs": [
    {
     "name": "stdout",
     "output_type": "stream",
     "text": [
      "reading and saving:\n",
      "events_2017.csv\n",
      "events_2016.csv\n",
      "events_2014.csv\n",
      "events_2015.csv\n",
      "events_2018.csv\n",
      "events_2019.csv\n",
      "events_2022.csv\n",
      "events_2023.csv\n",
      "events_2021.csv\n",
      "events_2020.csv\n",
      "events_all\n"
     ]
    }
   ],
   "source": [
    "directory = os.fsencode('flegrei_2014_2023_GOSSIP')\n",
    "print('reading and saving:')\n",
    "cat_all={}\n",
    "for file in os.listdir(directory):\n",
    "    filename = os.fsdecode(file)\n",
    "\n",
    "    if filename.endswith(\".csv\"): \n",
    "        print(filename)\n",
    "\n",
    "        with open('flegrei_2014_2023_GOSSIP/'+filename, newline='') as f:\n",
    "            first_line=True\n",
    "            reader = csv.reader(f, delimiter=',')\n",
    "            cat={}\n",
    "            for row in reader:\n",
    "                if first_line==True:\n",
    "                    first_line=False\n",
    "                    for key in row:\n",
    "                        cat.setdefault(key,[])\n",
    "                        cat_all.setdefault(key,[])\n",
    "                else:\n",
    "                        for n,key in enumerate(cat):\n",
    "                             cat[key].append(row[n])\n",
    "                             cat_all[key].append(row[n])\n",
    "\n",
    "        del cat['Area']\n",
    "        del cat['Type']\n",
    "        del cat_all['Area']\n",
    "        del cat_all['Type']           \n",
    "        #save\n",
    "        np.save('flegrei_2014_2023_GOSSIP/'+ filename[:-4] +'.npy', cat)\n",
    "    else:\n",
    "        continue\n",
    "#save\n",
    "np.save('flegrei_2014_2023_GOSSIP/events_all.npy', cat_all)\n",
    "print('events_all')"
   ]
  },
  {
   "cell_type": "markdown",
   "metadata": {},
   "source": [
    "## load all dictionaries"
   ]
  },
  {
   "cell_type": "code",
   "execution_count": 3,
   "metadata": {},
   "outputs": [
    {
     "name": "stdout",
     "output_type": "stream",
     "text": [
      "loading dictionaries:\n",
      "events_2014.npy\n",
      "events_2015.npy\n",
      "events_2017.npy\n",
      "events_2016.npy\n",
      "events_2018.npy\n",
      "events_2019.npy\n",
      "events_2021.npy\n",
      "events_2020.npy\n",
      "events_2022.npy\n",
      "events_2023.npy\n",
      "events_all.npy\n"
     ]
    }
   ],
   "source": [
    "'''\n",
    "print('loading dictionaries:')\n",
    "\n",
    "for file in os.listdir(directory):\n",
    "    filename = os.fsdecode(file)\n",
    "    \n",
    "    if filename.endswith(\".npy\"): \n",
    "        print(filename)\n",
    "\n",
    "        var_name='cat' + filename[6:-4]\n",
    "        cat=np.load('flegrei_2014_2023_GOSSIP/'+ filename , allow_pickle='TRUE').item()\n",
    "        exec(f\"{var_name} = {cat}\")\n",
    "        \n",
    "    else:\n",
    "        continue\n",
    "'''"
   ]
  },
  {
   "cell_type": "markdown",
   "metadata": {},
   "source": [
    "## load big dictionary (catalogue)"
   ]
  },
  {
   "cell_type": "code",
   "execution_count": 4,
   "metadata": {},
   "outputs": [],
   "source": [
    "cat_all=np.load('flegrei_2014_2023_GOSSIP/events_all.npy' , allow_pickle='TRUE').item()"
   ]
  },
  {
   "cell_type": "markdown",
   "metadata": {},
   "source": [
    "# CODE"
   ]
  },
  {
   "cell_type": "code",
   "execution_count": 4,
   "metadata": {},
   "outputs": [
    {
     "name": "stdout",
     "output_type": "stream",
     "text": [
      "<class 'dict'>\n",
      "dict_keys(['#EventID', 'Time', 'Latitude', 'Longitude', 'Depth/km', 'MagType', 'Magnitude', 'MagErr', 'Level'])\n",
      "15178\n"
     ]
    }
   ],
   "source": [
    "print(type(cat_all))\n",
    "print(cat_all.keys())\n",
    "print(len(cat_all['Longitude']))"
   ]
  },
  {
   "cell_type": "code",
   "execution_count": 7,
   "metadata": {},
   "outputs": [
    {
     "data": {
      "text/plain": [
       "\"\\nplt.figure()\\nx=cat_all['Longitude'][0:50]\\ny=cat_all['Latitude'][0:50]\\nplt.plot(x,y,'.b')\\n\""
      ]
     },
     "execution_count": 7,
     "metadata": {},
     "output_type": "execute_result"
    }
   ],
   "source": [
    "#not working for strings\n",
    "'''\n",
    "plt.figure()\n",
    "x=cat_all['Longitude'][0:50]\n",
    "y=cat_all['Latitude'][0:50]\n",
    "plt.plot(x,y,'.b')\n",
    "'''"
   ]
  },
  {
   "cell_type": "code",
   "execution_count": 8,
   "metadata": {},
   "outputs": [
    {
     "name": "stdout",
     "output_type": "stream",
     "text": [
      "dict_keys(['#EventID', 'Time', 'Latitude', 'Longitude', 'Depth/km', 'MagType', 'Magnitude', 'MagErr', 'Level'])\n",
      "8499 , 2017-01-16 04:18:16.43 ,  ,  ,  , D , -1.1 , 0.3 , Bollettino\n"
     ]
    }
   ],
   "source": [
    "print(cat_all.keys())\n",
    "print(cat_all['#EventID'][1],',',cat_all['Time'][1],',',cat_all['Latitude'][1],',',cat_all['Longitude'][1],',',cat_all['Depth/km'][1],',',cat_all['MagType'][1],',',cat_all['Magnitude'][1],',',cat_all['MagErr'][1],',',cat_all['Level'][1])"
   ]
  },
  {
   "cell_type": "markdown",
   "metadata": {},
   "source": [
    "## create two catalogues: 1) only magnitudes ; 2) magnitudes and location"
   ]
  },
  {
   "cell_type": "markdown",
   "metadata": {},
   "source": [
    "# !!!not working!!!"
   ]
  },
  {
   "cell_type": "code",
   "execution_count": null,
   "metadata": {},
   "outputs": [],
   "source": [
    "cat_mag=dict.fromkeys(cat_all.keys(),[])\n",
    "cat_loc=dict.fromkeys(cat_all.keys(),[])\n",
    "\n",
    "for n,ev_id in enumerate(cat_all['#EventID']):\n",
    "    if ( cat_all['Latitude'][n]=='' and cat_all['MagType'][n]=='' ):\n",
    "        continue\n",
    "    elif ( cat_all['Latitude'][n]=='' and cat_all['MagType'][n]!='' ):\n",
    "        for key in cat_mag:\n",
    "            cat_mag[key][n].append(cat_all[key][n])\n",
    "    elif ( cat_all['Latitude'][n]!='' and cat_all['MagType'][n]!='' ):\n",
    "        for key in cat_loc:\n",
    "            cat_loc[key][n].append(cat_all[key][n])\n",
    "    else:\n",
    "        print('event not included in catalogue')"
   ]
  },
  {
   "cell_type": "markdown",
   "metadata": {},
   "source": [
    "# create catalogue obspy"
   ]
  },
  {
   "cell_type": "code",
   "execution_count": 25,
   "metadata": {},
   "outputs": [],
   "source": [
    "cat_obs=Catalog()\n",
    "for ind,id_number in enumerate(cat_all['#EventID']):\n",
    "    origin=Origin()\n",
    "    magnitude=Magnitude()\n",
    "    \n",
    "    origin.resource_id=id_number\n",
    "    \n",
    "    origin.time=cat_all['Time'][ind]\n",
    "    \n",
    "    try:\n",
    "        origin.latitude=float(cat_all['Latitude'][ind])\n",
    "    except:\n",
    "        None\n",
    "    \n",
    "    try:\n",
    "        origin.longitude=float(cat_all['Longitude'][ind])\n",
    "    except:\n",
    "        None\n",
    "    \n",
    "    try:\n",
    "        origin.depth=float(cat_all['Depth/km'][ind])\n",
    "    except:\n",
    "        None\n",
    "        \n",
    "    event=Event(resource_id=id_number)\n",
    "    event.origins.append(origin)\n",
    "    event.magnitudes.append(magnitude)\n",
    "    cat_obs.events.append(event)\n"
   ]
  },
  {
   "cell_type": "code",
   "execution_count": 30,
   "metadata": {},
   "outputs": [
    {
     "data": {
      "text/plain": [
       "[]"
      ]
     },
     "execution_count": 30,
     "metadata": {},
     "output_type": "execute_result"
    }
   ],
   "source": [
    "#cat_obs.events[0].origins[0].__dict__\n",
    "cat_obs.events[0].magnitudes\n"
   ]
  }
 ],
 "metadata": {
  "kernelspec": {
   "display_name": "Python 3",
   "language": "python",
   "name": "python3"
  },
  "language_info": {
   "codemirror_mode": {
    "name": "ipython",
    "version": 3
   },
   "file_extension": ".py",
   "mimetype": "text/x-python",
   "name": "python",
   "nbconvert_exporter": "python",
   "pygments_lexer": "ipython3",
   "version": "3.9.6"
  }
 },
 "nbformat": 4,
 "nbformat_minor": 2
}
