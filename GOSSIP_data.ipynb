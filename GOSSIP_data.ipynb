{
 "cells": [
  {
   "cell_type": "code",
   "execution_count": 8,
   "metadata": {},
   "outputs": [],
   "source": [
    "import numpy as np\n",
    "import matplotlib.pyplot as plt\n",
    "import csv\n",
    "import os\n",
    "from obspy.core.event import Catalog\n"
   ]
  },
  {
   "cell_type": "markdown",
   "metadata": {},
   "source": [
    "# Read and create dictionary"
   ]
  },
  {
   "cell_type": "code",
   "execution_count": 26,
   "metadata": {},
   "outputs": [
    {
     "name": "stdout",
     "output_type": "stream",
     "text": [
      "reading and saving:\n",
      "events_2017.csv\n",
      "events_2016.csv\n",
      "events_2014.csv\n",
      "events_2015.csv\n",
      "events_2018.csv\n",
      "events_2019.csv\n",
      "events_2022.csv\n",
      "events_2023.csv\n",
      "events_2021.csv\n",
      "events_2020.csv\n",
      "events_all\n"
     ]
    }
   ],
   "source": [
    "\n",
    "directory = os.fsencode('flegrei_2014_2023_GOSSIP')\n",
    "print('reading and saving:')\n",
    "cat_all={}\n",
    "for file in os.listdir(directory):\n",
    "    filename = os.fsdecode(file)\n",
    "\n",
    "    if filename.endswith(\".csv\"): \n",
    "        print(filename)\n",
    "\n",
    "        with open('flegrei_2014_2023_GOSSIP/'+filename, newline='') as f:\n",
    "            first_line=True\n",
    "            reader = csv.reader(f, delimiter=',')\n",
    "            cat={}\n",
    "            for row in reader:\n",
    "                if first_line==True:\n",
    "                    first_line=False\n",
    "                    for key in row:\n",
    "                        cat.setdefault(key,[])\n",
    "                        cat_all.setdefault(key,[])\n",
    "                else:\n",
    "                        for n,key in enumerate(cat):\n",
    "                             cat[key].append(row[n])\n",
    "                             cat_all[key].append(row[n])\n",
    "\n",
    "        del cat['Area']\n",
    "        del cat['Type']\n",
    "        del cat_all['Area']\n",
    "        del cat_all['Type']\n",
    "\n",
    "        for index,id_number in enumerate(cat['#EventID']):\n",
    "            cat['#EventID'][index]  =   int(cat['#EventID'][index])\n",
    "            try:\n",
    "                cat['Latitude'][index]  =   float(cat['Latitude'][index])\n",
    "            except:\n",
    "                None\n",
    "            try:\n",
    "                cat['Longitude'][index] =   float(cat['Longitude'][index])\n",
    "            except:\n",
    "                None\n",
    "            try:\n",
    "                cat['Depth/km'][index]  =   float(cat['Depth/km'][index])\n",
    "            except:\n",
    "                None\n",
    "            try:\n",
    "                cat['Magnitude'][index]  =  float(cat['Magnitude'][index])\n",
    "            except:\n",
    "                None\n",
    "            try:\n",
    "                cat['MagErr'][index]  =     float(cat['MagErr'][index])\n",
    "            except:\n",
    "                None            \n",
    "        #save\n",
    "        np.save('flegrei_2014_2023_GOSSIP/'+ filename[:-4] +'.npy', cat)\n",
    "    else:\n",
    "        continue\n",
    "\n",
    "\n",
    "for index,id_number in enumerate(cat['#EventID']):\n",
    "    cat_all['#EventID'][index]  =   int(cat_all['#EventID'][index])\n",
    "    try:\n",
    "        cat_all['Latitude'][index]  =   float(cat_all['Latitude'][index])\n",
    "    except:\n",
    "        None\n",
    "    try:\n",
    "        cat_all['Longitude'][index] =   float(cat_all['Longitude'][index])\n",
    "    except:\n",
    "        None\n",
    "    try:\n",
    "        cat_all['Depth/km'][index]  =   float(cat_all['Depth/km'][index])\n",
    "    except:\n",
    "        None\n",
    "    try:\n",
    "        cat_all['Magnitude'][index]  =  float(cat_all['Magnitude'][index])\n",
    "    except:\n",
    "        None\n",
    "    try:\n",
    "        cat_all['MagErr'][index]  =     float(cat_all['MagErr'][index])\n",
    "    except:\n",
    "        None\n",
    "#save\n",
    "np.save('flegrei_2014_2023_GOSSIP/events_all.npy', cat_all)\n",
    "print('events_all')"
   ]
  },
  {
   "cell_type": "markdown",
   "metadata": {},
   "source": [
    "## load all dictionaries"
   ]
  },
  {
   "cell_type": "code",
   "execution_count": 3,
   "metadata": {},
   "outputs": [
    {
     "name": "stdout",
     "output_type": "stream",
     "text": [
      "loading dictionaries:\n",
      "events_2014.npy\n",
      "events_2015.npy\n",
      "events_2017.npy\n",
      "events_2016.npy\n",
      "events_2018.npy\n",
      "events_2019.npy\n",
      "events_2021.npy\n",
      "events_2020.npy\n",
      "events_2022.npy\n",
      "events_2023.npy\n",
      "events_all.npy\n"
     ]
    }
   ],
   "source": [
    "print('loading dictionaries:')\n",
    "\n",
    "for file in os.listdir(directory):\n",
    "    filename = os.fsdecode(file)\n",
    "    \n",
    "    if filename.endswith(\".npy\"): \n",
    "        print(filename)\n",
    "\n",
    "        var_name='cat' + filename[6:-4]\n",
    "        cat=np.load('flegrei_2014_2023_GOSSIP/'+ filename , allow_pickle='TRUE').item()\n",
    "        exec(f\"{var_name} = {cat}\")\n",
    "        \n",
    "    else:\n",
    "        continue"
   ]
  },
  {
   "cell_type": "markdown",
   "metadata": {},
   "source": [
    "## load big dictionary (catalogue)"
   ]
  },
  {
   "cell_type": "code",
   "execution_count": 4,
   "metadata": {},
   "outputs": [],
   "source": [
    "cat_all=np.load('flegrei_2014_2023_GOSSIP/events_all.npy' , allow_pickle='TRUE').item()"
   ]
  },
  {
   "cell_type": "markdown",
   "metadata": {},
   "source": [
    "# CODE"
   ]
  },
  {
   "cell_type": "code",
   "execution_count": 5,
   "metadata": {},
   "outputs": [
    {
     "name": "stdout",
     "output_type": "stream",
     "text": [
      "<class 'dict'>\n",
      "dict_keys(['#EventID', 'Time', 'Latitude', 'Longitude', 'Depth/km', 'MagType', 'Magnitude', 'MagErr', 'Level'])\n",
      "15178\n"
     ]
    }
   ],
   "source": [
    "print(type(cat_all))\n",
    "print(cat_all.keys())\n",
    "print(len(cat_all['Longitude']))\n"
   ]
  },
  {
   "cell_type": "code",
   "execution_count": 6,
   "metadata": {},
   "outputs": [
    {
     "data": {
      "text/plain": [
       "[<matplotlib.lines.Line2D at 0x11c1ab580>]"
      ]
     },
     "execution_count": 6,
     "metadata": {},
     "output_type": "execute_result"
    },
    {
     "data": {
      "image/png": "[encoded data removed]",
      "text/plain": [
       "<Figure size 640x480 with 1 Axes>"
      ]
     },
     "metadata": {},
     "output_type": "display_data"
    }
   ],
   "source": [
    "plt.figure()\n",
    "y=cat_all['Magnitude'][0:5]\n",
    "x=cat_all['Time'][0:5]\n",
    "plt.plot(x,y,'.-b',linewidth=0.2)\n"
   ]
  },
  {
   "cell_type": "code",
   "execution_count": 7,
   "metadata": {},
   "outputs": [
    {
     "name": "stdout",
     "output_type": "stream",
     "text": [
      "dict_keys(['#EventID', 'Time', 'Latitude', 'Longitude', 'Depth/km', 'MagType', 'Magnitude', 'MagErr', 'Level'])\n",
      "8499 , 2017-01-16 04:18:16.43 ,  ,  ,  , D , -1.1 , 0.3 , Bollettino\n"
     ]
    }
   ],
   "source": [
    "print(cat_all.keys())\n",
    "print(cat_all['#EventID'][1],',',cat_all['Time'][1],',',cat_all['Latitude'][1],',',cat_all['Longitude'][1],',',cat_all['Depth/km'][1],',',cat_all['MagType'][1],',',cat_all['Magnitude'][1],',',cat_all['MagErr'][1],',',cat_all['Level'][1])"
   ]
  },
  {
   "cell_type": "markdown",
   "metadata": {},
   "source": [
    "## create two catalogues: 1) only magnitudes ; 2) magnitudes and location"
   ]
  },
  {
   "cell_type": "code",
   "execution_count": null,
   "metadata": {},
   "outputs": [],
   "source": [
    "cat_mag=dict.fromkeys(cat_all.keys(),[])\n",
    "cat_loc=dict.fromkeys(cat_all.keys(),[])\n",
    "\n",
    "for n,ev_id in enumerate(cat_all['#EventID']):\n",
    "    if ( cat_all['Latitude'][n]=='' and cat_all['MagType'][n]=='' ):\n",
    "        continue\n",
    "    elif ( cat_all['Latitude'][n]=='' and cat_all['MagType'][n]!='' ):\n",
    "        for key in cat_mag:\n",
    "            cat_mag[key][n].append(cat_all[key][n])\n",
    "    elif ( cat_all['Latitude'][n]!='' and cat_all['MagType'][n]!='' ):\n",
    "        for key in cat_loc:\n",
    "            cat_loc[key][n].append(cat_all[key][n])\n",
    "    else:\n",
    "        print('event not included in catalogue')"
   ]
  },
  {
   "cell_type": "markdown",
   "metadata": {},
   "source": [
    "# create catalogue obspy"
   ]
  },
  {
   "cell_type": "code",
   "execution_count": 24,
   "metadata": {},
   "outputs": [
    {
     "ename": "AttributeError",
     "evalue": "'int' object has no attribute 'short_str'",
     "output_type": "error",
     "traceback": [
      "\u001b[0;31m---------------------------------------------------------------------------\u001b[0m",
      "\u001b[0;31mAttributeError\u001b[0m                            Traceback (most recent call last)",
      "File \u001b[0;32m~/Library/Python/3.9/lib/python/site-packages/IPython/core/formatters.py:708\u001b[0m, in \u001b[0;36mPlainTextFormatter.__call__\u001b[0;34m(self, obj)\u001b[0m\n\u001b[1;32m    701\u001b[0m stream \u001b[39m=\u001b[39m StringIO()\n\u001b[1;32m    702\u001b[0m printer \u001b[39m=\u001b[39m pretty\u001b[39m.\u001b[39mRepresentationPrinter(stream, \u001b[39mself\u001b[39m\u001b[39m.\u001b[39mverbose,\n\u001b[1;32m    703\u001b[0m     \u001b[39mself\u001b[39m\u001b[39m.\u001b[39mmax_width, \u001b[39mself\u001b[39m\u001b[39m.\u001b[39mnewline,\n\u001b[1;32m    704\u001b[0m     max_seq_length\u001b[39m=\u001b[39m\u001b[39mself\u001b[39m\u001b[39m.\u001b[39mmax_seq_length,\n\u001b[1;32m    705\u001b[0m     singleton_pprinters\u001b[39m=\u001b[39m\u001b[39mself\u001b[39m\u001b[39m.\u001b[39msingleton_printers,\n\u001b[1;32m    706\u001b[0m     type_pprinters\u001b[39m=\u001b[39m\u001b[39mself\u001b[39m\u001b[39m.\u001b[39mtype_printers,\n\u001b[1;32m    707\u001b[0m     deferred_pprinters\u001b[39m=\u001b[39m\u001b[39mself\u001b[39m\u001b[39m.\u001b[39mdeferred_printers)\n\u001b[0;32m--> 708\u001b[0m printer\u001b[39m.\u001b[39;49mpretty(obj)\n\u001b[1;32m    709\u001b[0m printer\u001b[39m.\u001b[39mflush()\n\u001b[1;32m    710\u001b[0m \u001b[39mreturn\u001b[39;00m stream\u001b[39m.\u001b[39mgetvalue()\n",
      "File \u001b[0;32m~/Library/Python/3.9/lib/python/site-packages/IPython/lib/pretty.py:407\u001b[0m, in \u001b[0;36mRepresentationPrinter.pretty\u001b[0;34m(self, obj)\u001b[0m\n\u001b[1;32m    405\u001b[0m     meth \u001b[39m=\u001b[39m \u001b[39mcls\u001b[39m\u001b[39m.\u001b[39m_repr_pretty_\n\u001b[1;32m    406\u001b[0m     \u001b[39mif\u001b[39;00m \u001b[39mcallable\u001b[39m(meth):\n\u001b[0;32m--> 407\u001b[0m         \u001b[39mreturn\u001b[39;00m meth(obj, \u001b[39mself\u001b[39;49m, cycle)\n\u001b[1;32m    408\u001b[0m \u001b[39mif\u001b[39;00m \u001b[39mcls\u001b[39m \u001b[39mis\u001b[39;00m \u001b[39mnot\u001b[39;00m \u001b[39mobject\u001b[39m \\\n\u001b[1;32m    409\u001b[0m         \u001b[39mand\u001b[39;00m \u001b[39mcallable\u001b[39m(\u001b[39mcls\u001b[39m\u001b[39m.\u001b[39m\u001b[39m__dict__\u001b[39m\u001b[39m.\u001b[39mget(\u001b[39m'\u001b[39m\u001b[39m__repr__\u001b[39m\u001b[39m'\u001b[39m)):\n\u001b[1;32m    410\u001b[0m     \u001b[39mreturn\u001b[39;00m _repr_pprint(obj, \u001b[39mself\u001b[39m, cycle)\n",
      "File \u001b[0;32m~/Library/Python/3.9/lib/python/site-packages/obspy/core/event/catalog.py:246\u001b[0m, in \u001b[0;36mCatalog._repr_pretty_\u001b[0;34m(self, p, cycle)\u001b[0m\n\u001b[1;32m    245\u001b[0m \u001b[39mdef\u001b[39;00m \u001b[39m_repr_pretty_\u001b[39m(\u001b[39mself\u001b[39m, p, cycle):\n\u001b[0;32m--> 246\u001b[0m     p\u001b[39m.\u001b[39mtext(\u001b[39mself\u001b[39;49m\u001b[39m.\u001b[39;49m\u001b[39m__str__\u001b[39;49m(print_all\u001b[39m=\u001b[39;49mp\u001b[39m.\u001b[39;49mverbose))\n",
      "File \u001b[0;32m~/Library/Python/3.9/lib/python/site-packages/obspy/core/event/catalog.py:238\u001b[0m, in \u001b[0;36mCatalog.__str__\u001b[0;34m(self, print_all)\u001b[0m\n\u001b[1;32m    236\u001b[0m     out \u001b[39m+\u001b[39m\u001b[39m=\u001b[39m \u001b[39m\"\u001b[39m\u001b[39m\\n\u001b[39;00m\u001b[39m\"\u001b[39m\u001b[39m.\u001b[39mjoin([ev\u001b[39m.\u001b[39mshort_str() \u001b[39mfor\u001b[39;00m ev \u001b[39min\u001b[39;00m \u001b[39mself\u001b[39m])\n\u001b[1;32m    237\u001b[0m \u001b[39melse\u001b[39;00m:\n\u001b[0;32m--> 238\u001b[0m     out \u001b[39m+\u001b[39m\u001b[39m=\u001b[39m \u001b[39m\"\u001b[39m\u001b[39m\\n\u001b[39;00m\u001b[39m\"\u001b[39m\u001b[39m.\u001b[39mjoin([ev\u001b[39m.\u001b[39mshort_str() \u001b[39mfor\u001b[39;00m ev \u001b[39min\u001b[39;00m \u001b[39mself\u001b[39m[:\u001b[39m2\u001b[39m]])\n\u001b[1;32m    239\u001b[0m     out \u001b[39m+\u001b[39m\u001b[39m=\u001b[39m \u001b[39m\"\u001b[39m\u001b[39m\\n\u001b[39;00m\u001b[39m...\u001b[39m\u001b[39m\\n\u001b[39;00m\u001b[39m\"\u001b[39m\n\u001b[1;32m    240\u001b[0m     out \u001b[39m+\u001b[39m\u001b[39m=\u001b[39m \u001b[39m\"\u001b[39m\u001b[39m\\n\u001b[39;00m\u001b[39m\"\u001b[39m\u001b[39m.\u001b[39mjoin([ev\u001b[39m.\u001b[39mshort_str() \u001b[39mfor\u001b[39;00m ev \u001b[39min\u001b[39;00m \u001b[39mself\u001b[39m[\u001b[39m-\u001b[39m\u001b[39m2\u001b[39m:]])\n",
      "File \u001b[0;32m~/Library/Python/3.9/lib/python/site-packages/obspy/core/event/catalog.py:238\u001b[0m, in \u001b[0;36m<listcomp>\u001b[0;34m(.0)\u001b[0m\n\u001b[1;32m    236\u001b[0m     out \u001b[39m+\u001b[39m\u001b[39m=\u001b[39m \u001b[39m\"\u001b[39m\u001b[39m\\n\u001b[39;00m\u001b[39m\"\u001b[39m\u001b[39m.\u001b[39mjoin([ev\u001b[39m.\u001b[39mshort_str() \u001b[39mfor\u001b[39;00m ev \u001b[39min\u001b[39;00m \u001b[39mself\u001b[39m])\n\u001b[1;32m    237\u001b[0m \u001b[39melse\u001b[39;00m:\n\u001b[0;32m--> 238\u001b[0m     out \u001b[39m+\u001b[39m\u001b[39m=\u001b[39m \u001b[39m\"\u001b[39m\u001b[39m\\n\u001b[39;00m\u001b[39m\"\u001b[39m\u001b[39m.\u001b[39mjoin([ev\u001b[39m.\u001b[39;49mshort_str() \u001b[39mfor\u001b[39;00m ev \u001b[39min\u001b[39;00m \u001b[39mself\u001b[39m[:\u001b[39m2\u001b[39m]])\n\u001b[1;32m    239\u001b[0m     out \u001b[39m+\u001b[39m\u001b[39m=\u001b[39m \u001b[39m\"\u001b[39m\u001b[39m\\n\u001b[39;00m\u001b[39m...\u001b[39m\u001b[39m\\n\u001b[39;00m\u001b[39m\"\u001b[39m\n\u001b[1;32m    240\u001b[0m     out \u001b[39m+\u001b[39m\u001b[39m=\u001b[39m \u001b[39m\"\u001b[39m\u001b[39m\\n\u001b[39;00m\u001b[39m\"\u001b[39m\u001b[39m.\u001b[39mjoin([ev\u001b[39m.\u001b[39mshort_str() \u001b[39mfor\u001b[39;00m ev \u001b[39min\u001b[39;00m \u001b[39mself\u001b[39m[\u001b[39m-\u001b[39m\u001b[39m2\u001b[39m:]])\n",
      "\u001b[0;31mAttributeError\u001b[0m: 'int' object has no attribute 'short_str'"
     ]
    }
   ],
   "source": [
    "cat_obs=Catalog(cat_all['#EventID'])\n",
    "cat_obs"
   ]
  }
 ],
 "metadata": {
  "kernelspec": {
   "display_name": "Python 3",
   "language": "python",
   "name": "python3"
  },
  "language_info": {
   "codemirror_mode": {
    "name": "ipython",
    "version": 3
   },
   "file_extension": ".py",
   "mimetype": "text/x-python",
   "name": "python",
   "nbconvert_exporter": "python",
   "pygments_lexer": "ipython3",
   "version": "3.9.6"
  }
 },
 "nbformat": 4,
 "nbformat_minor": 2
}
