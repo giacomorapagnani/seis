{
 "cells": [
  {
   "cell_type": "code",
   "execution_count": 1,
   "metadata": {},
   "outputs": [
    {
     "name": "stderr",
     "output_type": "stream",
     "text": [
      "/Users/user/Library/Python/3.9/lib/python/site-packages/urllib3/__init__.py:34: NotOpenSSLWarning: urllib3 v2.0 only supports OpenSSL 1.1.1+, currently the 'ssl' module is compiled with 'LibreSSL 2.8.3'. See: https://github.com/urllib3/urllib3/issues/3020\n",
      "  warnings.warn(\n"
     ]
    }
   ],
   "source": [
    "import matplotlib.pyplot as plt\n",
    "\n",
    "from obspy.clients.fdsn.client import Client\n",
    "from obspy import UTCDateTime\n",
    "from obspy.core.event import Catalog\n",
    "from obspy.core.stream import Stream\n",
    "from obspy.core.event import Event\n",
    "from obspy.core.event import Origin\n",
    "from obspy.core.event import Magnitude\n",
    "from obspy import read_events\n",
    "from obspy import read_inventory\n",
    "import cartopy.crs as ccrs\n",
    "import cartopy.feature as cfeature\n",
    "\n",
    "import pickle\n"
   ]
  },
  {
   "cell_type": "code",
   "execution_count": null,
   "metadata": {},
   "outputs": [],
   "source": [
    "catINGV=read_events('flegrei_2014_2023_INGV/catalogue_flegrei.xml')"
   ]
  },
  {
   "cell_type": "code",
   "execution_count": 2,
   "metadata": {},
   "outputs": [],
   "source": [
    "catOV=read_events('flegrei_2014_2023_GOSSIP/catalogue_flegrei.xml')"
   ]
  },
  {
   "cell_type": "code",
   "execution_count": null,
   "metadata": {},
   "outputs": [],
   "source": [
    "str(catOV.events[0].resource_id).split('/')[1]"
   ]
  },
  {
   "cell_type": "code",
   "execution_count": null,
   "metadata": {},
   "outputs": [],
   "source": [
    "id_catalogues=[]\n",
    "\n",
    "for ind,ev in enumerate(catINGV):\n",
    "    \n",
    "    origin_time = ev.origins[0].time\n",
    "    time_min= 'time > ' + str(origin_time - 5)\n",
    "    time_max= 'time < ' + str(origin_time + 5)\n",
    "    cat= catOV.filter(time_min , time_max)\n",
    "\n",
    "    id_catalogues.append([])\n",
    "    id_catalogues[ind].append( int( str(ev.resource_id).split('=')[1] ) )\n",
    "\n",
    "    for match in cat:\n",
    "        id_catalogues[ind].append( int( str(match.resource_id).split('/')[1] ) )\n",
    "\n",
    "id_catalogues"
   ]
  },
  {
   "cell_type": "code",
   "execution_count": null,
   "metadata": {},
   "outputs": [],
   "source": [
    "print( 'len INGV:', len(catINGV), 'len comparison:', len(id_catalogues) )"
   ]
  },
  {
   "cell_type": "markdown",
   "metadata": {},
   "source": [
    "## save"
   ]
  },
  {
   "cell_type": "code",
   "execution_count": null,
   "metadata": {},
   "outputs": [],
   "source": [
    "with open(\"event_comparison_INGV_GOSSIP\", \"wb\") as fp:   #Pickling\n",
    "    pickle.dump(id_catalogues, fp)"
   ]
  },
  {
   "cell_type": "markdown",
   "metadata": {},
   "source": [
    "## load"
   ]
  },
  {
   "cell_type": "code",
   "execution_count": null,
   "metadata": {},
   "outputs": [],
   "source": [
    "with open(\"event_comparison_INGV_GOSSIP\", \"rb\") as fp:   # Unpickling\n",
    "    catalogues = pickle.load(fp)"
   ]
  },
  {
   "cell_type": "code",
   "execution_count": null,
   "metadata": {},
   "outputs": [],
   "source": [
    "catalogues[0:6]"
   ]
  },
  {
   "cell_type": "code",
   "execution_count": null,
   "metadata": {},
   "outputs": [],
   "source": [
    "ev_not_found=[]\n",
    "ev_multiple_det=[]\n",
    "\n",
    "for ev in catalogues:\n",
    "    if len(ev)   >= 3:\n",
    "        ev_multiple_det.append(ev)\n",
    "    elif len(ev) == 1:\n",
    "        ev_not_found.append(ev)\n",
    "    elif len(ev) != 2:\n",
    "        print('!event not categorized!')\n",
    "        "
   ]
  },
  {
   "cell_type": "code",
   "execution_count": null,
   "metadata": {},
   "outputs": [],
   "source": [
    "ev_multiple_det"
   ]
  },
  {
   "cell_type": "code",
   "execution_count": null,
   "metadata": {},
   "outputs": [],
   "source": [
    "ev_not_found"
   ]
  },
  {
   "cell_type": "code",
   "execution_count": null,
   "metadata": {},
   "outputs": [],
   "source": [
    "[ev for ev in catOV if ev.resource_id.id.split('/')[1]== str(catalogues[0][1]) ]"
   ]
  },
  {
   "cell_type": "code",
   "execution_count": null,
   "metadata": {},
   "outputs": [],
   "source": [
    "for ev in catOV:\n",
    "    if  ev.resource_id.id.split('/')[1]== str(catalogues[0][1]):\n",
    "        ev1=ev\n",
    "ev1"
   ]
  },
  {
   "cell_type": "markdown",
   "metadata": {},
   "source": [
    "# Stations"
   ]
  },
  {
   "cell_type": "code",
   "execution_count": 3,
   "metadata": {},
   "outputs": [],
   "source": [
    "client=Client('INGV')\n",
    "\n",
    "stime=UTCDateTime('2014-01-01T00:00:00')\n",
    "etime=UTCDateTime('2023-11-20T00:00:00')"
   ]
  },
  {
   "cell_type": "code",
   "execution_count": null,
   "metadata": {},
   "outputs": [],
   "source": [
    "lat=40.8478\n",
    "long=14.0918\n",
    "rad_events=0.5\n",
    "inv=client.get_stations(starttime=stime,endtime=etime,\n",
    "                        latitude=lat,longitude=long,maxradius=rad_events,\n",
    "                        level='response')                                   #instrumental response\n",
    "inv"
   ]
  },
  {
   "cell_type": "code",
   "execution_count": null,
   "metadata": {},
   "outputs": [],
   "source": [
    "inv.plot(projection='local',resolution='h');"
   ]
  },
  {
   "cell_type": "code",
   "execution_count": null,
   "metadata": {},
   "outputs": [],
   "source": [
    "inv.write('flegrei_2014_2023_INGV/inventory_flegrei.xml',format='STATIONXML')                        #save"
   ]
  },
  {
   "cell_type": "code",
   "execution_count": 4,
   "metadata": {},
   "outputs": [],
   "source": [
    "inv_f=read_inventory('flegrei_2014_2023_INGV/inventory_flegrei.xml')                                 #read"
   ]
  },
  {
   "cell_type": "code",
   "execution_count": null,
   "metadata": {},
   "outputs": [],
   "source": [
    "inv_f.plot_response(min_freq=1E-4,station='SORR',channel='[EH]H?');"
   ]
  },
  {
   "cell_type": "markdown",
   "metadata": {},
   "source": [
    "# Waveform "
   ]
  },
  {
   "cell_type": "markdown",
   "metadata": {},
   "source": [
    "### from Magnitude to origin time\n"
   ]
  },
  {
   "cell_type": "code",
   "execution_count": null,
   "metadata": {},
   "outputs": [],
   "source": [
    "catOV_mag = catOV.filter(\"magnitude >= 3.0\")\n",
    "for ev in catOV_mag:\n",
    "    origin_time=ev.origins[0].time\n",
    "    print('origin time event:',origin_time)\n",
    "    print('extimated magnitude:',ev.magnitudes[0].mag)"
   ]
  },
  {
   "cell_type": "markdown",
   "metadata": {},
   "source": [
    "### from ID to origin time"
   ]
  },
  {
   "cell_type": "code",
   "execution_count": null,
   "metadata": {},
   "outputs": [],
   "source": [
    "evID = str(ev_multiple_det[0][2])\n",
    "\n",
    "for ev in catOV :\n",
    "    if ev.resource_id.id.split('/')[1]== evID:\n",
    "        origin_time=ev.origins[0].time\n",
    "        print('event occurred:',origin_time)\n",
    "        print('extimated magnitude:',ev.magnitudes[0].mag)\n"
   ]
  },
  {
   "cell_type": "code",
   "execution_count": null,
   "metadata": {},
   "outputs": [],
   "source": [
    "inv_f"
   ]
  },
  {
   "cell_type": "code",
   "execution_count": null,
   "metadata": {},
   "outputs": [],
   "source": []
  },
  {
   "cell_type": "code",
   "execution_count": 5,
   "metadata": {},
   "outputs": [
    {
     "name": "stdout",
     "output_type": "stream",
     "text": [
      "event id:  2508\n",
      "origin time event: 2019-12-06T00:17:23.780000Z\n",
      "extimated magnitude: 3.1\n",
      "CAFL station not found\n",
      "CAWE station not found\n",
      "CBAC station not found\n",
      "CCAP station not found\n",
      "CMTS station not found\n",
      "CNIS station not found\n",
      "CQUE station not found\n",
      "CRTO station not found\n",
      "CSTH station not found\n",
      "IBCM station not found\n",
      "ICVJ station not found\n",
      "IPSM station not found\n",
      "IVLC station not found\n",
      "OVO station not found\n",
      "PTMR station not found\n",
      "SORR station not found\n",
      "VARP station not found\n",
      "VBKE station not found\n",
      "VBKS station not found\n",
      "VBKW station not found\n",
      "VCNE station not found\n",
      "VPOB station not found\n",
      "VTRZ station not found\n",
      "NAPI station not found\n",
      "T1361 station not found\n",
      "T1363 station not found\n",
      "T1365 station not found\n",
      "T1366 station not found\n",
      "T1367 station not found\n",
      "T1368 station not found\n",
      "traces found: 57\n",
      "saved!\n",
      "event id:  7102\n",
      "origin time event: 2022-03-16T14:14:34.800000Z\n",
      "extimated magnitude: 3.47\n"
     ]
    },
    {
     "name": "stderr",
     "output_type": "stream",
     "text": [
      "/Users/user/Library/Python/3.9/lib/python/site-packages/obspy/io/mseed/core.py:821: UserWarning: File will be written with more than one different encodings.\n",
      "This might have a negative influence on the compatibility with other programs.\n",
      "  warnings.warn(msg % 'encodings')\n"
     ]
    },
    {
     "name": "stdout",
     "output_type": "stream",
     "text": [
      "CAFL station not found\n",
      "CAWE station not found\n",
      "CCAP station not found\n",
      "CMTS station not found\n",
      "CNIS station not found\n",
      "CPIS station not found\n",
      "CQUE station not found\n",
      "IBCM station not found\n",
      "ICVJ station not found\n",
      "IPSM station not found\n",
      "IVLC station not found\n",
      "MODR station not found\n",
      "PAOL station not found\n",
      "PTMR station not found\n",
      "VARP station not found\n",
      "VBKS station not found\n",
      "VBKW station not found\n",
      "VCNE station not found\n",
      "VCRE station not found\n",
      "VPOB station not found\n",
      "VTRZ station not found\n",
      "NAPI station not found\n",
      "T1361 station not found\n",
      "T1363 station not found\n",
      "T1365 station not found\n",
      "T1366 station not found\n",
      "T1367 station not found\n",
      "T1368 station not found\n",
      "traces found: 63\n"
     ]
    },
    {
     "name": "stderr",
     "output_type": "stream",
     "text": [
      "/Users/user/Library/Python/3.9/lib/python/site-packages/obspy/io/mseed/core.py:821: UserWarning: File will be written with more than one different encodings.\n",
      "This might have a negative influence on the compatibility with other programs.\n",
      "  warnings.warn(msg % 'encodings')\n"
     ]
    },
    {
     "name": "stdout",
     "output_type": "stream",
     "text": [
      "saved!\n",
      "event id:  14725\n",
      "origin time event: 2022-03-29T17:45:32.360000Z\n",
      "extimated magnitude: 3.57\n",
      "CAFL station not found\n",
      "CAWE station not found\n",
      "CCAP station not found\n",
      "CMTS station not found\n",
      "CPIS station not found\n",
      "CQUE station not found\n",
      "IBCM station not found\n",
      "ICVJ station not found\n"
     ]
    }
   ],
   "source": [
    "catOV_mag = catOV.filter(\"magnitude >= 3.0\")\n",
    "for ev in catOV_mag:\n",
    "    origin_time=ev.origins[0].time\n",
    "    evID=ev.resource_id.id.split('/')[1]\n",
    "    print('event id: ',evID)\n",
    "    print('origin time event:',origin_time)\n",
    "    print('extimated magnitude:',ev.magnitudes[0].mag)\n",
    "\n",
    "\n",
    "    event_start=origin_time -10\n",
    "    event_end=origin_time +50\n",
    "\n",
    "    wave=Stream()\n",
    "    for network in inv_f:\n",
    "        for  station in network.stations:\n",
    "            try:\n",
    "                wave += client.get_waveforms(starttime=event_start,endtime=event_end,\n",
    "                                    network=network.code,station=station.code,location='*', channel='HH?',\n",
    "                                    attach_response=True,)\n",
    "            except:\n",
    "                print(station.code , 'station not found')\n",
    "                #continue\n",
    "\n",
    "    print('traces found:',len(wave.traces))\n",
    "\n",
    "    wave.merge(fill_value=0)\n",
    "    # trim over the [t1, t2] interval\n",
    "    wave.trim(starttime=event_start, endtime=event_end, pad=True, fill_value=0)\n",
    "\n",
    "    '''\n",
    "    # remove trend\n",
    "    wave.detrend(\"demean\")\n",
    "    \n",
    "    #remove instrumental response\n",
    "    pre_filt = [0.01, 0.1, 25,30]\n",
    "    \n",
    "    #remove instrumental response\n",
    "    wave.remove_response(inventory=inv_f, output='DISP', pre_filt=pre_filt) #output=VEL ??\n",
    "    '''\n",
    "\n",
    "    wave.write('waveform/wave_'+ evID +'.mseed',format='MSEED')\n",
    "    print('saved!')"
   ]
  }
 ],
 "metadata": {
  "kernelspec": {
   "display_name": "Python 3",
   "language": "python",
   "name": "python3"
  },
  "language_info": {
   "codemirror_mode": {
    "name": "ipython",
    "version": 3
   },
   "file_extension": ".py",
   "mimetype": "text/x-python",
   "name": "python",
   "nbconvert_exporter": "python",
   "pygments_lexer": "ipython3",
   "version": "3.9.6"
  }
 },
 "nbformat": 4,
 "nbformat_minor": 2
}
