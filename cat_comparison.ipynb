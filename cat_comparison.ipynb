{
 "cells": [
  {
   "cell_type": "code",
   "execution_count": null,
   "metadata": {},
   "outputs": [],
   "source": [
    "import matplotlib.pyplot as plt\n",
    "\n",
    "from obspy.clients.fdsn.client import Client\n",
    "from obspy import UTCDateTime\n",
    "from obspy.core.event import Catalog\n",
    "from obspy.core.stream import Stream\n",
    "from obspy.core.event import Event\n",
    "from obspy.core.event import Origin\n",
    "from obspy.core.event import Magnitude\n",
    "from obspy import read_events\n",
    "from obspy import read_inventory\n",
    "import cartopy.crs as ccrs"
   ]
  },
  {
   "cell_type": "code",
   "execution_count": null,
   "metadata": {},
   "outputs": [],
   "source": [
    "catINGV=read_events('flegrei_2014_2023_INGV/catalogue_flegrei.xml')\n",
    "catOV=read_events('flegrei_2014_2023_GOSSIP/catalogue_flegrei.xml')"
   ]
  },
  {
   "cell_type": "code",
   "execution_count": null,
   "metadata": {},
   "outputs": [],
   "source": [
    "id_catalogues=[]\n",
    "\n",
    "for ind,ev in enumerate(catINGV):\n",
    "    \n",
    "    origin_time = ev.origins[0].time\n",
    "    time_min= 'time > ' + str(origin_time - 5)\n",
    "    time_max= 'time < ' + str(origin_time + 5)\n",
    "    cat= catOV.filter(time_min , time_max)\n",
    "\n",
    "    id_catalogues.append([])\n",
    "    id_catalogues[ind].append(int(str(ev.resource_id)[-8:]))\n",
    "\n",
    "    for match in cat:\n",
    "        id_catalogues[ind].append(int(str(match.resource_id)[-8:]))\n",
    "\n",
    "id_catalogues"
   ]
  }
 ],
 "metadata": {
  "language_info": {
   "name": "python"
  }
 },
 "nbformat": 4,
 "nbformat_minor": 2
}
